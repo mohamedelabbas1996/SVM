{
  "cells": [
    {
      "cell_type": "code",
      "execution_count": 98,
      "metadata": {
        "id": "K0i9AaWwD040"
      },
      "outputs": [],
      "source": [
        "import pandas as pd\n",
        "import nltk\n",
        "from nltk.stem import PorterStemmer\n",
        "from nltk.corpus import stopwords\n",
        "import re\n",
        "import numpy as np\n",
        "import torch\n",
        "from sklearn.feature_extraction.text import TfidfTransformer\n",
        "from sklearn.feature_extraction.text import TfidfVectorizer\n",
        "from sklearn.feature_extraction.text import CountVectorizer\n",
        "from sklearn.model_selection import train_test_split \n",
        "import matplotlib.pyplot as plt"
      ]
    },
    {
      "cell_type": "code",
      "source": [
        "!wget https://raw.githubusercontent.com/mohammedelabbas/SVM/main/Preprocessing.py\n",
        "!wget https://raw.githubusercontent.com/mohammedelabbas/SVM/main/svm.py\n",
        "!wget https://raw.githubusercontent.com/mohammedelabbas/SVM/main/word_representation.py"
      ],
      "metadata": {
        "colab": {
          "base_uri": "https://localhost:8080/"
        },
        "id": "I2AOlTIL5-u-",
        "outputId": "2e967d5f-c9b8-43fd-9430-8547e3a27123"
      },
      "execution_count": 100,
      "outputs": [
        {
          "output_type": "stream",
          "name": "stdout",
          "text": [
            "--2022-04-22 08:14:07--  https://raw.githubusercontent.com/mohammedelabbas/SVM/main/Preprocessing.py\n",
            "Resolving raw.githubusercontent.com (raw.githubusercontent.com)... 185.199.108.133, 185.199.109.133, 185.199.110.133, ...\n",
            "Connecting to raw.githubusercontent.com (raw.githubusercontent.com)|185.199.108.133|:443... connected.\n",
            "HTTP request sent, awaiting response... 200 OK\n",
            "Length: 1270 (1.2K) [text/plain]\n",
            "Saving to: ‘Preprocessing.py’\n",
            "\n",
            "\rPreprocessing.py      0%[                    ]       0  --.-KB/s               \rPreprocessing.py    100%[===================>]   1.24K  --.-KB/s    in 0s      \n",
            "\n",
            "2022-04-22 08:14:07 (91.9 MB/s) - ‘Preprocessing.py’ saved [1270/1270]\n",
            "\n",
            "--2022-04-22 08:14:08--  https://raw.githubusercontent.com/mohammedelabbas/SVM/main/svm.py\n",
            "Resolving raw.githubusercontent.com (raw.githubusercontent.com)... 185.199.108.133, 185.199.109.133, 185.199.110.133, ...\n",
            "Connecting to raw.githubusercontent.com (raw.githubusercontent.com)|185.199.108.133|:443... connected.\n",
            "HTTP request sent, awaiting response... 200 OK\n",
            "Length: 1239 (1.2K) [text/plain]\n",
            "Saving to: ‘svm.py’\n",
            "\n",
            "svm.py              100%[===================>]   1.21K  --.-KB/s    in 0s      \n",
            "\n",
            "2022-04-22 08:14:08 (62.4 MB/s) - ‘svm.py’ saved [1239/1239]\n",
            "\n",
            "--2022-04-22 08:14:08--  https://raw.githubusercontent.com/mohammedelabbas/SVM/main/word_representation.py\n",
            "Resolving raw.githubusercontent.com (raw.githubusercontent.com)... 185.199.108.133, 185.199.109.133, 185.199.110.133, ...\n",
            "Connecting to raw.githubusercontent.com (raw.githubusercontent.com)|185.199.108.133|:443... connected.\n",
            "HTTP request sent, awaiting response... 200 OK\n",
            "Length: 3255 (3.2K) [text/plain]\n",
            "Saving to: ‘word_representation.py’\n",
            "\n",
            "word_representation 100%[===================>]   3.18K  --.-KB/s    in 0s      \n",
            "\n",
            "2022-04-22 08:14:08 (41.1 MB/s) - ‘word_representation.py’ saved [3255/3255]\n",
            "\n"
          ]
        }
      ]
    },
    {
      "cell_type": "markdown",
      "metadata": {
        "id": "epxTwNUVyf_e"
      },
      "source": [
        ""
      ]
    },
    {
      "cell_type": "code",
      "execution_count": 58,
      "metadata": {
        "colab": {
          "base_uri": "https://localhost:8080/",
          "height": 173
        },
        "id": "hJMtlJdkFEJM",
        "outputId": "69144e9d-63b5-4f06-dbb8-59fd94373da1"
      },
      "outputs": [
        {
          "output_type": "execute_result",
          "data": {
            "text/plain": [
              "'Phil the Alien is one of those quirky films where the humour is based around the oddness of everything rather than actual punchlines.<br /><br />At first it was very odd and pretty funny but as the movie progressed I didn\\'t find the jokes or oddness funny anymore.<br /><br />Its a low budget film (thats never a problem in itself), there were some pretty interesting characters, but eventually I just lost interest.<br /><br />I imagine this film would appeal to a stoner who is currently partaking.<br /><br />For something similar but better try \"Brother from another planet\"'"
            ],
            "application/vnd.google.colaboratory.intrinsic+json": {
              "type": "string"
            }
          },
          "metadata": {},
          "execution_count": 58
        }
      ],
      "source": [
        "df = pd.read_csv(\"IMDB Dataset.csv\")\n",
        "df[\"review\"][10]\n"
      ]
    },
    {
      "cell_type": "code",
      "source": [
        "df[\"sentiment\"] [df[\"sentiment\"] == \"positive\"] = 1\n",
        "df[\"sentiment\"] [df[\"sentiment\"] == \"negative\"] = -1\n",
        "labels  = df[\"sentiment\"]\n",
        "labels = np.array(labels)"
      ],
      "metadata": {
        "id": "u4G4rd3Ge3gr"
      },
      "execution_count": 59,
      "outputs": []
    },
    {
      "cell_type": "markdown",
      "metadata": {
        "id": "Yet616heEK3p"
      },
      "source": [
        "# Data Pre-processing"
      ]
    },
    {
      "cell_type": "code",
      "source": [
        "import re\n",
        "from Preprocessing import *\n",
        "preprocessing = DataPreprocessing()\n",
        "data = preprocessing.preprocess(list(df[\"review\"].iloc[:100]))"
      ],
      "metadata": {
        "colab": {
          "base_uri": "https://localhost:8080/",
          "height": 354
        },
        "id": "kq7FX_wOb7uP",
        "outputId": "ffc36690-62d7-4575-b2c3-a500bcfe2f4d"
      },
      "execution_count": 101,
      "outputs": [
        {
          "output_type": "error",
          "ename": "NameError",
          "evalue": "ignored",
          "traceback": [
            "\u001b[0;31m---------------------------------------------------------------------------\u001b[0m",
            "\u001b[0;31mNameError\u001b[0m                                 Traceback (most recent call last)",
            "\u001b[0;32m<ipython-input-101-9d2429a1e646>\u001b[0m in \u001b[0;36m<module>\u001b[0;34m()\u001b[0m\n\u001b[1;32m      2\u001b[0m \u001b[0;32mfrom\u001b[0m \u001b[0mPreprocessing\u001b[0m \u001b[0;32mimport\u001b[0m \u001b[0;34m*\u001b[0m\u001b[0;34m\u001b[0m\u001b[0;34m\u001b[0m\u001b[0m\n\u001b[1;32m      3\u001b[0m \u001b[0mpreprocessing\u001b[0m \u001b[0;34m=\u001b[0m \u001b[0mDataPreprocessing\u001b[0m\u001b[0;34m(\u001b[0m\u001b[0;34m)\u001b[0m\u001b[0;34m\u001b[0m\u001b[0;34m\u001b[0m\u001b[0m\n\u001b[0;32m----> 4\u001b[0;31m \u001b[0mdata\u001b[0m \u001b[0;34m=\u001b[0m \u001b[0mpreprocessing\u001b[0m\u001b[0;34m.\u001b[0m\u001b[0mpreprocess\u001b[0m\u001b[0;34m(\u001b[0m\u001b[0mlist\u001b[0m\u001b[0;34m(\u001b[0m\u001b[0mdf\u001b[0m\u001b[0;34m[\u001b[0m\u001b[0;34m\"review\"\u001b[0m\u001b[0;34m]\u001b[0m\u001b[0;34m.\u001b[0m\u001b[0miloc\u001b[0m\u001b[0;34m[\u001b[0m\u001b[0;34m:\u001b[0m\u001b[0;36m100\u001b[0m\u001b[0;34m]\u001b[0m\u001b[0;34m)\u001b[0m\u001b[0;34m)\u001b[0m\u001b[0;34m\u001b[0m\u001b[0;34m\u001b[0m\u001b[0m\n\u001b[0m",
            "\u001b[0;32m/content/Preprocessing.py\u001b[0m in \u001b[0;36mpreprocess\u001b[0;34m(self, data)\u001b[0m\n\u001b[1;32m     41\u001b[0m     \u001b[0;32mreturn\u001b[0m \u001b[0mdata\u001b[0m\u001b[0;34m\u001b[0m\u001b[0;34m\u001b[0m\u001b[0m\n\u001b[1;32m     42\u001b[0m \u001b[0;34m\u001b[0m\u001b[0m\n\u001b[0;32m---> 43\u001b[0;31m   \u001b[0;32mdef\u001b[0m \u001b[0mpreprocess\u001b[0m\u001b[0;34m(\u001b[0m\u001b[0mself\u001b[0m\u001b[0;34m,\u001b[0m\u001b[0mdata\u001b[0m\u001b[0;34m)\u001b[0m\u001b[0;34m:\u001b[0m\u001b[0;34m\u001b[0m\u001b[0;34m\u001b[0m\u001b[0m\n\u001b[0m\u001b[1;32m     44\u001b[0m      \u001b[0mdata\u001b[0m \u001b[0;34m=\u001b[0m \u001b[0mself\u001b[0m\u001b[0;34m.\u001b[0m\u001b[0m_remove_html\u001b[0m\u001b[0;34m(\u001b[0m\u001b[0mdata\u001b[0m\u001b[0;34m)\u001b[0m\u001b[0;34m\u001b[0m\u001b[0;34m\u001b[0m\u001b[0m\n\u001b[1;32m     45\u001b[0m      \u001b[0mdata\u001b[0m \u001b[0;34m=\u001b[0m \u001b[0mself\u001b[0m\u001b[0;34m.\u001b[0m\u001b[0m_remove_single_characters\u001b[0m\u001b[0;34m(\u001b[0m\u001b[0mdata\u001b[0m\u001b[0;34m)\u001b[0m\u001b[0;34m\u001b[0m\u001b[0;34m\u001b[0m\u001b[0m\n",
            "\u001b[0;32m/content/Preprocessing.py\u001b[0m in \u001b[0;36m_remove_html\u001b[0;34m(self, data)\u001b[0m\n\u001b[1;32m      4\u001b[0m \u001b[0;34m\u001b[0m\u001b[0m\n\u001b[1;32m      5\u001b[0m   \u001b[0;32mdef\u001b[0m \u001b[0m_remove_html\u001b[0m\u001b[0;34m(\u001b[0m\u001b[0mself\u001b[0m\u001b[0;34m,\u001b[0m \u001b[0mdata\u001b[0m\u001b[0;34m)\u001b[0m\u001b[0;34m:\u001b[0m\u001b[0;34m\u001b[0m\u001b[0;34m\u001b[0m\u001b[0m\n\u001b[0;32m----> 6\u001b[0;31m     \u001b[0;32mfor\u001b[0m \u001b[0mi\u001b[0m \u001b[0;32min\u001b[0m \u001b[0mrange\u001b[0m\u001b[0;34m(\u001b[0m\u001b[0mlen\u001b[0m\u001b[0;34m(\u001b[0m\u001b[0mdata\u001b[0m\u001b[0;34m)\u001b[0m\u001b[0;34m)\u001b[0m \u001b[0;34m:\u001b[0m\u001b[0;34m\u001b[0m\u001b[0;34m\u001b[0m\u001b[0m\n\u001b[0m\u001b[1;32m      7\u001b[0m       \u001b[0mp\u001b[0m \u001b[0;34m=\u001b[0m \u001b[0mre\u001b[0m\u001b[0;34m.\u001b[0m\u001b[0mcompile\u001b[0m\u001b[0;34m(\u001b[0m\u001b[0;34mr'<.*?>'\u001b[0m\u001b[0;34m)\u001b[0m\u001b[0;34m\u001b[0m\u001b[0;34m\u001b[0m\u001b[0m\n\u001b[1;32m      8\u001b[0m       \u001b[0mdata\u001b[0m\u001b[0;34m[\u001b[0m\u001b[0mi\u001b[0m\u001b[0;34m]\u001b[0m \u001b[0;34m=\u001b[0m \u001b[0mp\u001b[0m\u001b[0;34m.\u001b[0m\u001b[0msub\u001b[0m\u001b[0;34m(\u001b[0m\u001b[0;34m''\u001b[0m\u001b[0;34m,\u001b[0m \u001b[0mdata\u001b[0m\u001b[0;34m[\u001b[0m\u001b[0mi\u001b[0m\u001b[0;34m]\u001b[0m\u001b[0;34m)\u001b[0m\u001b[0;34m\u001b[0m\u001b[0;34m\u001b[0m\u001b[0m\n",
            "\u001b[0;31mNameError\u001b[0m: name 're' is not defined"
          ]
        }
      ]
    },
    {
      "cell_type": "markdown",
      "source": [
        ""
      ],
      "metadata": {
        "id": "NI157UAbl7ce"
      }
    },
    {
      "cell_type": "markdown",
      "metadata": {
        "id": "9O3QYEikEXXs"
      },
      "source": [
        "# Word Representation"
      ]
    },
    {
      "cell_type": "code",
      "source": [
        "from word_representation import WordRepresentation\n",
        "repr = WordRepresentation()\n",
        "x= repr.tf_idf(data)\n",
        "x.shape"
      ],
      "metadata": {
        "colab": {
          "base_uri": "https://localhost:8080/"
        },
        "id": "4CWI0zECd4qj",
        "outputId": "8bb06eb9-c5f3-4f8b-cf78-fec8714f04e4"
      },
      "execution_count": 102,
      "outputs": [
        {
          "output_type": "stream",
          "name": "stdout",
          "text": [
            "3980\n",
            "100\n"
          ]
        },
        {
          "output_type": "execute_result",
          "data": {
            "text/plain": [
              "(100, 3980)"
            ]
          },
          "metadata": {},
          "execution_count": 102
        }
      ]
    },
    {
      "cell_type": "code",
      "source": [
        "x_train,x_test,y_train,y_test = train_test_split(x,labels[:100], test_size = 0.1, random_state = 10)\n",
        "x_train = x_train.astype(np.double)\n",
        "y_train = y_train.astype(np.double)\n",
        "x_test = x_test.astype(np.double)\n",
        "y_test = y_test.astype(np.double)\n",
        "print (x_train.shape)"
      ],
      "metadata": {
        "colab": {
          "base_uri": "https://localhost:8080/"
        },
        "id": "7TZh3hkhfB2t",
        "outputId": "e725fd44-fb61-4c28-ebe1-cae3b11db98b"
      },
      "execution_count": 82,
      "outputs": [
        {
          "output_type": "stream",
          "name": "stdout",
          "text": [
            "(90, 3980)\n"
          ]
        }
      ]
    },
    {
      "cell_type": "markdown",
      "metadata": {
        "id": "lgTi-S5VEbkd"
      },
      "source": [
        "**Count Frequency Encoding**"
      ]
    },
    {
      "cell_type": "markdown",
      "metadata": {
        "id": "uRiDjrlIEnqh"
      },
      "source": [
        "**TF-IDF**"
      ]
    },
    {
      "cell_type": "markdown",
      "metadata": {
        "id": "CkMs8Ku073QY"
      },
      "source": [
        ""
      ]
    },
    {
      "cell_type": "markdown",
      "metadata": {
        "id": "xygnM-QMEbp3"
      },
      "source": [
        "#Training"
      ]
    },
    {
      "cell_type": "code",
      "source": [
        ""
      ],
      "metadata": {
        "id": "HaouzKxVeZ8d"
      },
      "execution_count": null,
      "outputs": []
    },
    {
      "cell_type": "code",
      "execution_count": 108,
      "metadata": {
        "colab": {
          "base_uri": "https://localhost:8080/"
        },
        "id": "hA3ukeoBWl4G",
        "outputId": "0cc7783a-a0e0-4edd-dda5-249393b7a374"
      },
      "outputs": [
        {
          "output_type": "stream",
          "name": "stdout",
          "text": [
            "Requirement already satisfied: cvxopt in /usr/local/lib/python3.7/dist-packages (1.2.7)\n",
            "/content\n"
          ]
        }
      ],
      "source": [
        "!pip install cvxopt\n",
        "from cvxopt import matrix as cvxopt_matrix\n",
        "from cvxopt import solvers\n",
        "!pwd"
      ]
    },
    {
      "cell_type": "code",
      "source": [
        "from svm import SVM\n",
        "model = SVM()\n",
        "model.train(x_train, y_train)\n",
        "\n"
      ],
      "metadata": {
        "colab": {
          "base_uri": "https://localhost:8080/",
          "height": 364
        },
        "id": "uRnuJiMDoiLB",
        "outputId": "ae7efed9-a792-4ca9-9cf7-2ff735c2e532"
      },
      "execution_count": 109,
      "outputs": [
        {
          "output_type": "error",
          "ename": "ImportError",
          "evalue": "ignored",
          "traceback": [
            "\u001b[0;31m---------------------------------------------------------------------------\u001b[0m",
            "\u001b[0;31mImportError\u001b[0m                               Traceback (most recent call last)",
            "\u001b[0;32m<ipython-input-109-9123fa6b9c8a>\u001b[0m in \u001b[0;36m<module>\u001b[0;34m()\u001b[0m\n\u001b[0;32m----> 1\u001b[0;31m \u001b[0;32mfrom\u001b[0m \u001b[0msvm\u001b[0m \u001b[0;32mimport\u001b[0m \u001b[0mSVM\u001b[0m\u001b[0;34m\u001b[0m\u001b[0;34m\u001b[0m\u001b[0m\n\u001b[0m\u001b[1;32m      2\u001b[0m \u001b[0mmodel\u001b[0m \u001b[0;34m=\u001b[0m \u001b[0mSVM\u001b[0m\u001b[0;34m(\u001b[0m\u001b[0;34m)\u001b[0m\u001b[0;34m\u001b[0m\u001b[0;34m\u001b[0m\u001b[0m\n\u001b[1;32m      3\u001b[0m \u001b[0mmodel\u001b[0m\u001b[0;34m.\u001b[0m\u001b[0mtrain\u001b[0m\u001b[0;34m(\u001b[0m\u001b[0mx_train\u001b[0m\u001b[0;34m,\u001b[0m \u001b[0my_train\u001b[0m\u001b[0;34m)\u001b[0m\u001b[0;34m\u001b[0m\u001b[0;34m\u001b[0m\u001b[0m\n\u001b[1;32m      4\u001b[0m \u001b[0;34m\u001b[0m\u001b[0m\n",
            "\u001b[0;31mImportError\u001b[0m: cannot import name 'SVM' from 'svm' (/content/svm.py)",
            "",
            "\u001b[0;31m---------------------------------------------------------------------------\u001b[0;32m\nNOTE: If your import is failing due to a missing package, you can\nmanually install dependencies using either !pip or !apt.\n\nTo view examples of installing some common dependencies, click the\n\"Open Examples\" button below.\n\u001b[0;31m---------------------------------------------------------------------------\u001b[0m\n"
          ],
          "errorDetails": {
            "actions": [
              {
                "action": "open_url",
                "actionText": "Open Examples",
                "url": "/notebooks/snippets/importing_libraries.ipynb"
              }
            ]
          }
        }
      ]
    },
    {
      "cell_type": "markdown",
      "source": [
        "#Testing"
      ],
      "metadata": {
        "id": "UjR8-pKLgo9i"
      }
    },
    {
      "cell_type": "markdown",
      "source": [
        ""
      ],
      "metadata": {
        "id": "W75Fa94prCO0"
      }
    },
    {
      "cell_type": "code",
      "source": [
        "y_pred = model.test(x_test)\n",
        "model.accuracy(y_pred,y_test)\n"
      ],
      "metadata": {
        "colab": {
          "base_uri": "https://localhost:8080/"
        },
        "id": "SUKMQGNUiESR",
        "outputId": "292cfaa8-11b5-4d5e-e8aa-7e66efd0f4ce"
      },
      "execution_count": 110,
      "outputs": [
        {
          "output_type": "stream",
          "name": "stdout",
          "text": [
            "(300, 30263)\n",
            "(30263, 1) (2700, 1)\n",
            "249.0\n"
          ]
        },
        {
          "output_type": "execute_result",
          "data": {
            "text/plain": [
              "0.83"
            ]
          },
          "metadata": {},
          "execution_count": 110
        }
      ]
    },
    {
      "cell_type": "markdown",
      "source": [
        "#Visualization"
      ],
      "metadata": {
        "id": "Buh5XEK7cpiw"
      }
    },
    {
      "cell_type": "code",
      "execution_count": null,
      "metadata": {
        "id": "SfeXE_8sWyvJ"
      },
      "outputs": [],
      "source": [
        "plt.figure(figsize=(10, 8))\n",
        "# Plotting our two-features-space\n",
        "sns.scatterplot(x=X_train[:, 0], \n",
        "                y=X_train[:, 1], \n",
        "                hue=y_train, \n",
        "                s=8);\n",
        "# Constructing a hyperplane using a formula.\n",
        "w = svc_model.coe          # w consists of 2 elements\n",
        "b = svc_model.intercept_[0]      # b consists of 1 element\n",
        "x_points = np.linspace(-1, 1)    # generating x-points from -1 to 1\n",
        "y_points = -(w[0] / w[1]) * x_points - b / w[1]  # getting corresponding y-points\n",
        "# Plotting a red hyperplane\n",
        "plt.plot(x_points, y_points, c='r');\n",
        "\n",
        "# Encircle support vectors\n",
        "# plt.scatter(svc_model.support_vectors_[:, 0],\n",
        "#             svc_model.support_vectors_[:, 1], \n",
        "#             s=50, \n",
        "#             facecolors='none', \n",
        "#             edgecolors='k', \n",
        "#             alpha=.5);\n",
        "\n",
        "# Step 2 (unit-vector):\n",
        "w_hat = Svmoptim_[0] / (np.sqrt(np.sum(SvmOptim_[0] ** 2)))\n",
        "# Step 3 (margin):\n",
        "margin = 1 / np.sqrt(np.sum(svc_model.coef_[0] ** 2))\n",
        "# Step 4 (calculate points of the margin lines):\n",
        "decision_boundary_points = np.array(list(zip(x_points, y_points)))\n",
        "points_of_line_above = decision_boundary_points + w_hat * margin\n",
        "points_of_line_below = decision_boundary_points - w_hat * margin\n",
        "# Plot margin lines\n",
        "# Blue margin line above\n",
        "plt.plot(points_of_line_above[:, 0], \n",
        "         points_of_line_above[:, 1], \n",
        "         'b--', \n",
        "         linewidth=2)\n",
        "# Green margin line below\n",
        "plt.plot(points_of_line_below[:, 0], \n",
        "         points_of_line_below[:, 1], \n",
        "         'g--',\n",
        "         linewidth=2)"
      ]
    }
  ],
  "metadata": {
    "colab": {
      "collapsed_sections": [],
      "name": "SVM Project.ipynb",
      "provenance": []
    },
    "kernelspec": {
      "display_name": "Python 3",
      "name": "python3"
    },
    "language_info": {
      "name": "python"
    }
  },
  "nbformat": 4,
  "nbformat_minor": 0
}